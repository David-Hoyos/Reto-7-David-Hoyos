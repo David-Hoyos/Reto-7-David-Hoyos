{
 "cells": [
  {
   "cell_type": "code",
   "execution_count": null,
   "metadata": {},
   "outputs": [],
   "source": [
    "#Se declara una variable \n",
    "x: int\n",
    "x = 0 \n",
    "#Se utiliza un ciclo para imprimir cada numero del 1 al 100 y su respectiva potencia al cuadrado\n",
    "while x < 100:\n",
    "    x+=1 \n",
    "    print(x,x**2)"
   ]
  },
  {
   "cell_type": "code",
   "execution_count": null,
   "metadata": {},
   "outputs": [],
   "source": [
    "#Se declaran dos variables\n",
    "x: int\n",
    "y: int \n",
    "x = 1\n",
    "y = 2\n",
    "print(\"Listado de numeros pares desde 1 hasta 999\")\n",
    "#Se utiliza un ciclo while para imprimir todos los numeros pares del 2 al 999 \n",
    "while x < 999:\n",
    "    print(x)\n",
    "    x+=2 \n",
    "print(\"Listado de numeros impares desde 2 hasta 999\")\n",
    "#Se utiliza un ciclo while para imprimir todos los numeros impares del 1 al 999\n",
    "while y < 999:\n",
    "    print(y)\n",
    "    y+=2"
   ]
  },
  {
   "cell_type": "code",
   "execution_count": null,
   "metadata": {},
   "outputs": [],
   "source": [
    "#Se utiliza try para ejecutar el codigo con la excepcion de cuando haya un ValueError\n",
    "try:\n",
    "    #Se le pide al usuario un numero natural mayor que 2\n",
    "    n = int(input(\"Ingrese un numero natural mayor que 2:  \"))\n",
    "    #Se utiliza if para ejecutar el codigo si el numero introducido es menor que 2 \n",
    "    if n > 2:   \n",
    "    #Se utiliza if para restar uno si el numero es impar \n",
    "        if n % 2 != 0:\n",
    "            n -=1\n",
    "    #Se utiliza un ciclo while para imprimir todos los numeros desde n hasta 2\n",
    "        while n >= 2:\n",
    "            print(n)\n",
    "            n -=2 \n",
    "    else:\n",
    "        print(\"No ingreso un numero natural mayor que 2\")\n",
    "except ValueError:\n",
    "    print(\"No ingreso un numero natural mayor que 2\")"
   ]
  },
  {
   "cell_type": "code",
   "execution_count": null,
   "metadata": {},
   "outputs": [],
   "source": [
    "#Se declaran tres variables\n",
    "pais_a = float(25)\n",
    "pais_b = float(18.9)\n",
    "x = int(0)\n",
    "#Mientras pais a sea menor que pais b, a pais a se le va a sumar 2% y a pais b 3%. Ademas a x se aumenta en uno cada vez que se repita el ciclo \n",
    "while pais_a > pais_b:\n",
    "    pais_a += pais_a * 2/100\n",
    "    pais_b += pais_b * 3/100\n",
    "    x += 1\n",
    "#Se imprime el numero de veces que se repitio el ciclo a 2022 para determinar el año.\n",
    "print(x + 2022)"
   ]
  },
  {
   "cell_type": "code",
   "execution_count": null,
   "metadata": {},
   "outputs": [],
   "source": [
    "#Se utiliza try para ejecutar el codigo con la excepcion de que el usuario no ingrese un numero valido\n",
    "try:\n",
    "#Se inicializan dos variables \n",
    "    x = int(input(\"Por favor ingrese un numero entero \"))\n",
    "    y = int(x-1)\n",
    "#Mientras y sea mayor que 0 el valor de x se convierte en x por y, y se repite el ciclo hasta que la condicion no se cumpla \n",
    "    while y > 0:\n",
    "        x = x * y\n",
    "        y -= 1\n",
    "    print(f\"El factorial del numero es {x}\")\n",
    "except ValueError:\n",
    "    print(\"No ingreso un numero entero\")"
   ]
  },
  {
   "cell_type": "code",
   "execution_count": null,
   "metadata": {},
   "outputs": [],
   "source": [
    "#Se utiliza try para ejecutar el codigo a menos que el usuario no ingrese un numero valido\n",
    "try:\n",
    "# Se importa random\n",
    "    import random \n",
    "# Se define una variable como un numero que elige el usuario y otro que se escoge al azar entre cero y cien utilizando random.randint\n",
    "    num = int(input(\"Adivine el numero\"))\n",
    "    num_aleatorio = random.randint(1,100)\n",
    "#Mientras num != num_aleatorio, si el numero que eligio el usuario es menor que el otro numero se le indica que es menor, mientras que si es mayor se le indica que es mayor. Esto hasta que el usuario acierta\n",
    "    while num != num_aleatorio:\n",
    "        if num < num_aleatorio: \n",
    "            print(\"El numero que ingresaste es menor\")\n",
    "            num = int(input(\"Adivine el numero\"))   \n",
    "        else:\n",
    "            print(\"El numero que ingresaste es mayor\")\n",
    "            num = int(input(\"Adivine el numero\"))\n",
    "    print(\"Felicidades, adivinaste el numero\")\n",
    "except ValueError:\n",
    "    print(\"No ingresaste un numero\")"
   ]
  },
  {
   "cell_type": "code",
   "execution_count": null,
   "metadata": {},
   "outputs": [],
   "source": [
    "#Se utiliza try para ejecutar el codigo a menos que el usuario no ingrese un numero valido\n",
    "try:\n",
    "# Se crean dos variables, una con un valor que elige el usuario y el otro con 0 \n",
    "    x = int(input(\"Por favor ingrese un numero entero entre 2 y 50: \"))\n",
    "    n = 0\n",
    "#Si es x es menor que 50 y mayor que 2, mientras que n sea menor que la mitad de n se le suma 1 y si es divisor de x se imprime n, por ultimo se imprime x, ya que todo numero es divisor de si mismo\n",
    "    if 2<x<50:\n",
    "        while n <= x/2:\n",
    "            n += 1\n",
    "            if x % n == 0:\n",
    "                print(n)\n",
    "        print(x)\n",
    "    else: \n",
    "        print(\"No ingresaste un numero entero entre 2 y 50\")\n",
    "except ValueError:\n",
    "    print(\"No ingresaste un numero entero entre 2 y 50\")\n"
   ]
  },
  {
   "cell_type": "code",
   "execution_count": null,
   "metadata": {},
   "outputs": [],
   "source": [
    "# Se establece una funcion para hallar los numeros primos por debajo de cierto numero\n",
    "def numero_primo(numero:int) -> int:\n",
    "# mientras el numero sea mayor que 2 modulo=2\n",
    "  while numero >= 2:\n",
    "    modulo : int = 2\n",
    "# Mientras que el numero % modulo != 0 se le sumara uno al modulo\n",
    "    while numero % modulo != 0:\n",
    "      modulo += 1\n",
    "# Si el modulo es mayor que la mitad del numero se imprime el numero \n",
    "    if modulo >= numero/2:\n",
    "      print(numero)\n",
    "# Se le resta al numero para que de esta manera se evaluen todos los numeros por debajo del numero hasta 2\n",
    "    numero -= 1\n",
    "x = 100\n",
    "numero_primo(x)"
   ]
  }
 ],
 "metadata": {
  "language_info": {
   "name": "python"
  }
 },
 "nbformat": 4,
 "nbformat_minor": 2
}
